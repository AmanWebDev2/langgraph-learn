{
 "cells": [
  {
   "cell_type": "code",
   "execution_count": 1,
   "id": "0a26b49a",
   "metadata": {},
   "outputs": [],
   "source": [
    "from typing_extensions import TypedDict\n",
    "from langgraph.graph import StateGraph, START,END"
   ]
  },
  {
   "cell_type": "code",
   "execution_count": 3,
   "id": "6922c0c7",
   "metadata": {},
   "outputs": [],
   "source": [
    "class AgentState(TypedDict):\n",
    "    n1: int\n",
    "    n2: int\n",
    "    n3: int\n",
    "    n4: int\n",
    "    op1: str\n",
    "    op2: str\n",
    "    result1: int\n",
    "    result2: int"
   ]
  },
  {
   "cell_type": "code",
   "execution_count": 5,
   "id": "aee039a6",
   "metadata": {},
   "outputs": [],
   "source": [
    "def add_node(state:AgentState) -> AgentState:\n",
    "    state['result1'] = state['n1'] + state['n2']\n",
    "    return state\n",
    "\n",
    "def sub_node(state:AgentState) -> AgentState:\n",
    "    state['result1'] = state['n1'] - state['n2']\n",
    "    return state\n",
    "\n",
    "def add_node2(state:AgentState) -> AgentState:\n",
    "    state['result2'] = state['n3'] + state['n4']\n",
    "    return state\n",
    "\n",
    "def sub_node2(state:AgentState) -> AgentState:\n",
    "    state['result2'] = state['n3'] - state['n4']\n",
    "    return state\n",
    "\n",
    "def decide_next_node(state:AgentState) -> AgentState:\n",
    "    if state['op1'] == '+':\n",
    "        return \"add_operation\"\n",
    "    elif state['op1'] == '-':\n",
    "        return \"sub_operation\"\n",
    "    \n",
    "\n",
    "def decide_next_node2(state:AgentState) -> AgentState:\n",
    "    if state['op2'] == '+':\n",
    "        return \"add_operation2\"\n",
    "    elif state['op2'] == '-':\n",
    "        return \"sub_operation2\""
   ]
  },
  {
   "cell_type": "code",
   "execution_count": null,
   "id": "2302f801",
   "metadata": {},
   "outputs": [],
   "source": [
    "graph_builder = StateGraph(AgentState)\n",
    "graph_builder.add_node(\"add_node\",add_node)\n",
    "graph_builder.add_node(\"sub_node\",sub_node)\n",
    "graph_builder.add_node(\"router\",lambda state:state)\n",
    "\n",
    "graph_builder.add_node(\"add_node2\",add_node2)\n",
    "graph_builder.add_node(\"sub_node2\",sub_node2)\n",
    "graph_builder.add_node(\"router2\",lambda state:state)\n",
    "\n",
    "\n",
    "graph_builder.add_edge(START,\"router\")\n",
    "\n",
    "graph_builder.add_conditional_edges(\n",
    "    \"router\", # source\n",
    "    decide_next_node,\n",
    "    {\n",
    "        \"add_operation\": \"add_node\",\n",
    "        \"sub_operation\": \"sub_node\"\n",
    "    }\n",
    ")\n",
    "\n",
    "graph_builder.add_edge(\"add_node\",\"router2\")\n",
    "graph_builder.add_edge(\"sub_node\",\"router2\")\n",
    "\n",
    "graph_builder.add_conditional_edges(\n",
    "    \"router2\",\n",
    "    decide_next_node2,\n",
    "    {\n",
    "        \"add_operation2\": \"add_node2\",\n",
    "        \"sub_operation2\": \"sub_node2\"\n",
    "    }\n",
    ")\n",
    "\n",
    "graph_builder.add_edge(\"add_node2\",END)\n",
    "graph_builder.add_edge(\"sub_node2\",END)\n",
    "\n",
    "app = graph_builder.compile()"
   ]
  },
  {
   "cell_type": "code",
   "execution_count": 14,
   "id": "afedcb03",
   "metadata": {},
   "outputs": [
    {
     "data": {
      "image/png": "[encoded data removed]",
      "text/plain": [
       "<IPython.core.display.Image object>"
      ]
     },
     "metadata": {},
     "output_type": "display_data"
    }
   ],
   "source": [
    "from IPython.display import Image,display\n",
    "\n",
    "display(Image(app.get_graph().draw_mermaid_png()))"
   ]
  },
  {
   "cell_type": "code",
   "execution_count": 15,
   "id": "fc5deb0b",
   "metadata": {},
   "outputs": [],
   "source": [
    "result = app.invoke({\n",
    "    'n1': 10,\n",
    "    'n2': 5,\n",
    "    'n3': 9,\n",
    "    'n4': 8,\n",
    "    'op1': '+',\n",
    "    'op2': '-'\n",
    "})"
   ]
  },
  {
   "cell_type": "code",
   "execution_count": 19,
   "id": "17b6edd6",
   "metadata": {},
   "outputs": [
    {
     "data": {
      "text/plain": [
       "{'n1': 10,\n",
       " 'n2': 5,\n",
       " 'n3': 9,\n",
       " 'n4': 8,\n",
       " 'op1': '+',\n",
       " 'op2': '-',\n",
       " 'result1': 15,\n",
       " 'result2': 1}"
      ]
     },
     "execution_count": 19,
     "metadata": {},
     "output_type": "execute_result"
    }
   ],
   "source": [
    "result"
   ]
  },
  {
   "cell_type": "code",
   "execution_count": 20,
   "id": "707af24d",
   "metadata": {},
   "outputs": [
    {
     "data": {
      "text/plain": [
       "15"
      ]
     },
     "execution_count": 20,
     "metadata": {},
     "output_type": "execute_result"
    }
   ],
   "source": [
    "result['result1']"
   ]
  },
  {
   "cell_type": "code",
   "execution_count": 21,
   "id": "ead0def4",
   "metadata": {},
   "outputs": [
    {
     "data": {
      "text/plain": [
       "1"
      ]
     },
     "execution_count": 21,
     "metadata": {},
     "output_type": "execute_result"
    }
   ],
   "source": [
    "result['result2']\n"
   ]
  }
 ],
 "metadata": {
  "kernelspec": {
   "display_name": "agent-1-g5o9zxWO-py3.11",
   "language": "python",
   "name": "python3"
  },
  "language_info": {
   "codemirror_mode": {
    "name": "ipython",
    "version": 3
   },
   "file_extension": ".py",
   "mimetype": "text/x-python",
   "name": "python",
   "nbconvert_exporter": "python",
   "pygments_lexer": "ipython3",
   "version": "3.11.12"
  }
 },
 "nbformat": 4,
 "nbformat_minor": 5
}
