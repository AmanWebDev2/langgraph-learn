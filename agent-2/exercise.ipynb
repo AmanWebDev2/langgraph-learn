{
 "cells": [
  {
   "cell_type": "code",
   "execution_count": 29,
   "id": "405821fa",
   "metadata": {},
   "outputs": [],
   "source": [
    "from typing_extensions import TypedDict,List\n",
    "from langgraph.graph import StateGraph"
   ]
  },
  {
   "cell_type": "code",
   "execution_count": 30,
   "id": "63bf9643",
   "metadata": {},
   "outputs": [],
   "source": [
    "class AgentState(TypedDict):\n",
    "    name: str\n",
    "    values: List[int]\n",
    "    operation: str\n",
    "    result: str"
   ]
  },
  {
   "cell_type": "code",
   "execution_count": 31,
   "id": "19a887c7",
   "metadata": {},
   "outputs": [],
   "source": [
    "import math\n",
    "def execute_node(state:AgentState) -> AgentState:\n",
    "    \"\"\"This node accepts the list of int and operation either * and + and gives back the output\"\"\"\n",
    "    nums = state['values']\n",
    "    ans = None\n",
    "    if state['operation'] == '*':\n",
    "        ans = math.prod(nums)\n",
    "    else:\n",
    "        ans = sum(nums) \n",
    "    state['result'] = f\"Hi {state['name']}, your ans is {ans}\"\n",
    "    print(state)\n",
    "    return state"
   ]
  },
  {
   "cell_type": "code",
   "execution_count": 32,
   "id": "4bcebff3",
   "metadata": {},
   "outputs": [],
   "source": [
    "graph_builder = StateGraph(AgentState)\n",
    "graph_builder.add_node(\"executor\",execute_node)\n",
    "\n",
    "graph_builder.set_entry_point(\"executor\")\n",
    "graph_builder.set_finish_point(\"executor\")\n",
    "\n",
    "app = graph_builder.compile()"
   ]
  },
  {
   "cell_type": "code",
   "execution_count": 33,
   "id": "7c32a0a6",
   "metadata": {},
   "outputs": [
    {
     "data": {
      "image/png": "[encoded data removed]",
      "text/plain": [
       "<IPython.core.display.Image object>"
      ]
     },
     "metadata": {},
     "output_type": "display_data"
    }
   ],
   "source": [
    "from IPython.display import Image,display\n",
    "\n",
    "display(Image(app.get_graph().draw_mermaid_png()))"
   ]
  },
  {
   "cell_type": "code",
   "execution_count": 35,
   "id": "c6345cb4",
   "metadata": {},
   "outputs": [
    {
     "name": "stdout",
     "output_type": "stream",
     "text": [
      "{'name': 'aman', 'values': [1, 2, 3, 4, 5], 'operation': '+', 'result': 'Hi aman, your ans is 15'}\n"
     ]
    }
   ],
   "source": [
    "result = app.invoke({'name': 'aman', 'values': [1,2,3,4,5], 'operation': \"+\"})"
   ]
  }
 ],
 "metadata": {
  "kernelspec": {
   "display_name": "agent-1-g5o9zxWO-py3.11",
   "language": "python",
   "name": "python3"
  },
  "language_info": {
   "codemirror_mode": {
    "name": "ipython",
    "version": 3
   },
   "file_extension": ".py",
   "mimetype": "text/x-python",
   "name": "python",
   "nbconvert_exporter": "python",
   "pygments_lexer": "ipython3",
   "version": "3.11.12"
  }
 },
 "nbformat": 4,
 "nbformat_minor": 5
}
