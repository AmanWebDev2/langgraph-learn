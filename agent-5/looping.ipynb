{
 "cells": [
  {
   "cell_type": "code",
   "execution_count": 24,
   "id": "fde21e08",
   "metadata": {},
   "outputs": [],
   "source": [
    "from typing_extensions import TypedDict,List\n",
    "import random\n",
    "from langgraph.graph import StateGraph, START,END"
   ]
  },
  {
   "cell_type": "code",
   "execution_count": 25,
   "id": "06b47ef4",
   "metadata": {},
   "outputs": [],
   "source": [
    "class AgentState(TypedDict):\n",
    "    name: str\n",
    "    number: List[int]\n",
    "    counter: int"
   ]
  },
  {
   "cell_type": "code",
   "execution_count": 26,
   "id": "f5879b51",
   "metadata": {},
   "outputs": [],
   "source": [
    "def greeting_node(state:AgentState) -> AgentState:\n",
    "    \"\"\"Greeting Node which says hi to the person\"\"\"\n",
    "    state['name'] = f\"Hi there, {state['name']}\"\n",
    "    state['counter'] = 0\n",
    "    return state\n",
    "\n",
    "\n",
    "def random_node(state:AgentState)-> AgentState:\n",
    "    \"\"\"Generates a random number from 0 to 10\"\"\"\n",
    "    state['number'].append(random.randint(0,10))\n",
    "    state['counter'] += 1\n",
    "    return state\n",
    "\n",
    "def should_continue(state:AgentState) -> AgentState:\n",
    "    \"\"\"determine when to stop\"\"\"\n",
    "    if state['counter'] < 5:\n",
    "        print(\"ENTERING LOOP\",state['counter'])\n",
    "        return \"loop\" # edge\n",
    "    else:\n",
    "        return \"exit\"\n"
   ]
  },
  {
   "cell_type": "code",
   "execution_count": 27,
   "id": "622d14fe",
   "metadata": {},
   "outputs": [],
   "source": [
    "# greeting -> random -> random -> random -> random -> random -> END"
   ]
  },
  {
   "cell_type": "code",
   "execution_count": 28,
   "id": "edc7f4b0",
   "metadata": {},
   "outputs": [],
   "source": [
    "graph_builder = StateGraph(AgentState)\n",
    "\n",
    "graph_builder.add_node(\"greeting_node\",greeting_node)\n",
    "graph_builder.add_node(\"random_node\",random_node)\n",
    "graph_builder.add_edge(\"greeting_node\",\"random_node\")\n",
    "\n",
    "graph_builder.add_conditional_edges(\n",
    "    \"random_node\",               # Source node\n",
    "    should_continue,        # Action\n",
    "    {\n",
    "        \"loop\": \"random_node\",\n",
    "        \"exit\": END         # End of the graph\n",
    "    }\n",
    ")\n",
    "\n",
    "graph_builder.add_edge(START,\"greeting_node\")\n",
    "\n",
    "app = graph_builder.compile()"
   ]
  },
  {
   "cell_type": "code",
   "execution_count": 29,
   "id": "2b4e1e87",
   "metadata": {},
   "outputs": [
    {
     "data": {
      "image/png": "[encoded data removed]",
      "text/plain": [
       "<IPython.core.display.Image object>"
      ]
     },
     "metadata": {},
     "output_type": "display_data"
    }
   ],
   "source": [
    "from IPython.display import display,Image\n",
    "from langchain_core.runnables.graph import CurveStyle\n",
    "\n",
    "display(Image(app.get_graph().draw_mermaid_png(padding=50,curve_style=CurveStyle.NATURAL)))"
   ]
  },
  {
   "cell_type": "code",
   "execution_count": 32,
   "id": "3ede2876",
   "metadata": {},
   "outputs": [
    {
     "name": "stdout",
     "output_type": "stream",
     "text": [
      "ENTERING LOOP 1\n",
      "ENTERING LOOP 2\n",
      "ENTERING LOOP 3\n",
      "ENTERING LOOP 4\n"
     ]
    },
    {
     "data": {
      "text/plain": [
       "{'name': 'Hi there, aman', 'number': [3, 1, 2, 9, 9], 'counter': 5}"
      ]
     },
     "execution_count": 32,
     "metadata": {},
     "output_type": "execute_result"
    }
   ],
   "source": [
    "result = app.invoke({\n",
    "    'name': 'aman',\n",
    "    'number': [],\n",
    "})\n",
    "result"
   ]
  },
  {
   "cell_type": "code",
   "execution_count": null,
   "id": "46c4aba6",
   "metadata": {},
   "outputs": [],
   "source": []
  }
 ],
 "metadata": {
  "kernelspec": {
   "display_name": "agent-1-g5o9zxWO-py3.11",
   "language": "python",
   "name": "python3"
  },
  "language_info": {
   "codemirror_mode": {
    "name": "ipython",
    "version": 3
   },
   "file_extension": ".py",
   "mimetype": "text/x-python",
   "name": "python",
   "nbconvert_exporter": "python",
   "pygments_lexer": "ipython3",
   "version": "3.11.12"
  }
 },
 "nbformat": 4,
 "nbformat_minor": 5
}
